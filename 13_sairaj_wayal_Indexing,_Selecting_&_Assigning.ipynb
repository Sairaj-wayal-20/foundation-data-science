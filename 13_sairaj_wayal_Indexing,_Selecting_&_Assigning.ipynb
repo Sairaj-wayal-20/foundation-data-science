{
  "nbformat": 4,
  "nbformat_minor": 0,
  "metadata": {
    "colab": {
      "name": "13_sairaj_wayal Indexing, Selecting & Assigning.ipynb",
      "provenance": [],
      "collapsed_sections": []
    },
    "kernelspec": {
      "name": "python3",
      "display_name": "Python 3"
    },
    "language_info": {
      "name": "python"
    }
  },
  "cells": [
    {
      "cell_type": "code",
      "metadata": {
        "id": "K002d999fWxc"
      },
      "source": [
        "import pandas as pd"
      ],
      "execution_count": null,
      "outputs": []
    },
    {
      "cell_type": "code",
      "metadata": {
        "colab": {
          "base_uri": "https://localhost:8080/"
        },
        "id": "f63pl3tHgeQi",
        "outputId": "439331ac-5279-423c-eccc-355bc3b191ef"
      },
      "source": [
        "reviews = pd.read_csv(\"../content/sample_data/winemag-data-130k-v2.csv\", index_col=0)\n",
        "print(reviews)"
      ],
      "execution_count": null,
      "outputs": [
        {
          "output_type": "stream",
          "text": [
            "         country  ...                                    winery\n",
            "0          Italy  ...                                   Nicosia\n",
            "1       Portugal  ...                       Quinta dos Avidagos\n",
            "2             US  ...                                 Rainstorm\n",
            "3             US  ...                                St. Julian\n",
            "4             US  ...                              Sweet Cheeks\n",
            "...          ...  ...                                       ...\n",
            "129966   Germany  ...  Dr. H. Thanisch (Erben Müller-Burggraef)\n",
            "129967        US  ...                                  Citation\n",
            "129968    France  ...                           Domaine Gresser\n",
            "129969    France  ...                      Domaine Marcel Deiss\n",
            "129970    France  ...                          Domaine Schoffit\n",
            "\n",
            "[129971 rows x 13 columns]\n"
          ],
          "name": "stdout"
        }
      ]
    },
    {
      "cell_type": "code",
      "metadata": {
        "colab": {
          "base_uri": "https://localhost:8080/",
          "height": 436
        },
        "id": "k5Z9wAzYjq-B",
        "outputId": "f1295615-96ad-4ed0-bc54-a6f34fd8bc5f"
      },
      "source": [
        "reviews.head()"
      ],
      "execution_count": null,
      "outputs": [
        {
          "output_type": "execute_result",
          "data": {
            "text/html": [
              "<div>\n",
              "<style scoped>\n",
              "    .dataframe tbody tr th:only-of-type {\n",
              "        vertical-align: middle;\n",
              "    }\n",
              "\n",
              "    .dataframe tbody tr th {\n",
              "        vertical-align: top;\n",
              "    }\n",
              "\n",
              "    .dataframe thead th {\n",
              "        text-align: right;\n",
              "    }\n",
              "</style>\n",
              "<table border=\"1\" class=\"dataframe\">\n",
              "  <thead>\n",
              "    <tr style=\"text-align: right;\">\n",
              "      <th></th>\n",
              "      <th>country</th>\n",
              "      <th>description</th>\n",
              "      <th>designation</th>\n",
              "      <th>points</th>\n",
              "      <th>price</th>\n",
              "      <th>province</th>\n",
              "      <th>region_1</th>\n",
              "      <th>region_2</th>\n",
              "      <th>taster_name</th>\n",
              "      <th>taster_twitter_handle</th>\n",
              "      <th>title</th>\n",
              "      <th>variety</th>\n",
              "      <th>winery</th>\n",
              "    </tr>\n",
              "  </thead>\n",
              "  <tbody>\n",
              "    <tr>\n",
              "      <th>0</th>\n",
              "      <td>Italy</td>\n",
              "      <td>Aromas include tropical fruit, broom, brimston...</td>\n",
              "      <td>Vulkà Bianco</td>\n",
              "      <td>87</td>\n",
              "      <td>NaN</td>\n",
              "      <td>Sicily &amp; Sardinia</td>\n",
              "      <td>Etna</td>\n",
              "      <td>NaN</td>\n",
              "      <td>Kerin O’Keefe</td>\n",
              "      <td>@kerinokeefe</td>\n",
              "      <td>Nicosia 2013 Vulkà Bianco  (Etna)</td>\n",
              "      <td>White Blend</td>\n",
              "      <td>Nicosia</td>\n",
              "    </tr>\n",
              "    <tr>\n",
              "      <th>1</th>\n",
              "      <td>Portugal</td>\n",
              "      <td>This is ripe and fruity, a wine that is smooth...</td>\n",
              "      <td>Avidagos</td>\n",
              "      <td>87</td>\n",
              "      <td>15.0</td>\n",
              "      <td>Douro</td>\n",
              "      <td>NaN</td>\n",
              "      <td>NaN</td>\n",
              "      <td>Roger Voss</td>\n",
              "      <td>@vossroger</td>\n",
              "      <td>Quinta dos Avidagos 2011 Avidagos Red (Douro)</td>\n",
              "      <td>Portuguese Red</td>\n",
              "      <td>Quinta dos Avidagos</td>\n",
              "    </tr>\n",
              "    <tr>\n",
              "      <th>2</th>\n",
              "      <td>US</td>\n",
              "      <td>Tart and snappy, the flavors of lime flesh and...</td>\n",
              "      <td>NaN</td>\n",
              "      <td>87</td>\n",
              "      <td>14.0</td>\n",
              "      <td>Oregon</td>\n",
              "      <td>Willamette Valley</td>\n",
              "      <td>Willamette Valley</td>\n",
              "      <td>Paul Gregutt</td>\n",
              "      <td>@paulgwine</td>\n",
              "      <td>Rainstorm 2013 Pinot Gris (Willamette Valley)</td>\n",
              "      <td>Pinot Gris</td>\n",
              "      <td>Rainstorm</td>\n",
              "    </tr>\n",
              "    <tr>\n",
              "      <th>3</th>\n",
              "      <td>US</td>\n",
              "      <td>Pineapple rind, lemon pith and orange blossom ...</td>\n",
              "      <td>Reserve Late Harvest</td>\n",
              "      <td>87</td>\n",
              "      <td>13.0</td>\n",
              "      <td>Michigan</td>\n",
              "      <td>Lake Michigan Shore</td>\n",
              "      <td>NaN</td>\n",
              "      <td>Alexander Peartree</td>\n",
              "      <td>NaN</td>\n",
              "      <td>St. Julian 2013 Reserve Late Harvest Riesling ...</td>\n",
              "      <td>Riesling</td>\n",
              "      <td>St. Julian</td>\n",
              "    </tr>\n",
              "    <tr>\n",
              "      <th>4</th>\n",
              "      <td>US</td>\n",
              "      <td>Much like the regular bottling from 2012, this...</td>\n",
              "      <td>Vintner's Reserve Wild Child Block</td>\n",
              "      <td>87</td>\n",
              "      <td>65.0</td>\n",
              "      <td>Oregon</td>\n",
              "      <td>Willamette Valley</td>\n",
              "      <td>Willamette Valley</td>\n",
              "      <td>Paul Gregutt</td>\n",
              "      <td>@paulgwine</td>\n",
              "      <td>Sweet Cheeks 2012 Vintner's Reserve Wild Child...</td>\n",
              "      <td>Pinot Noir</td>\n",
              "      <td>Sweet Cheeks</td>\n",
              "    </tr>\n",
              "  </tbody>\n",
              "</table>\n",
              "</div>"
            ],
            "text/plain": [
              "    country  ...               winery\n",
              "0     Italy  ...              Nicosia\n",
              "1  Portugal  ...  Quinta dos Avidagos\n",
              "2        US  ...            Rainstorm\n",
              "3        US  ...           St. Julian\n",
              "4        US  ...         Sweet Cheeks\n",
              "\n",
              "[5 rows x 13 columns]"
            ]
          },
          "metadata": {},
          "execution_count": 5
        }
      ]
    },
    {
      "cell_type": "markdown",
      "metadata": {
        "id": "_Ep60qg2ggGp"
      },
      "source": [
        "Select the description column from reviews and assign the result to the variable desc."
      ]
    },
    {
      "cell_type": "code",
      "metadata": {
        "colab": {
          "base_uri": "https://localhost:8080/"
        },
        "id": "V1jYktDEm95S",
        "outputId": "89a8059c-5a8c-41e1-bbaa-6a20b61995a0"
      },
      "source": [
        "reviews.description"
      ],
      "execution_count": null,
      "outputs": [
        {
          "output_type": "execute_result",
          "data": {
            "text/plain": [
              "0         Aromas include tropical fruit, broom, brimston...\n",
              "1         This is ripe and fruity, a wine that is smooth...\n",
              "2         Tart and snappy, the flavors of lime flesh and...\n",
              "3         Pineapple rind, lemon pith and orange blossom ...\n",
              "4         Much like the regular bottling from 2012, this...\n",
              "                                ...                        \n",
              "129966    Notes of honeysuckle and cantaloupe sweeten th...\n",
              "129967    Citation is given as much as a decade of bottl...\n",
              "129968    Well-drained gravel soil gives this wine its c...\n",
              "129969    A dry style of Pinot Gris, this is crisp with ...\n",
              "129970    Big, rich and off-dry, this is powered by inte...\n",
              "Name: description, Length: 129971, dtype: object"
            ]
          },
          "metadata": {},
          "execution_count": 6
        }
      ]
    },
    {
      "cell_type": "markdown",
      "metadata": {
        "id": "3t_aEWOehEBS"
      },
      "source": [
        ""
      ]
    },
    {
      "cell_type": "markdown",
      "metadata": {
        "id": "5YGSsLJqhNFr"
      },
      "source": [
        "Select the first value from the description column of reviews, assigning it to variable first_description."
      ]
    },
    {
      "cell_type": "code",
      "metadata": {
        "colab": {
          "base_uri": "https://localhost:8080/",
          "height": 52
        },
        "id": "oLvH2v8fnU-a",
        "outputId": "197edf4d-c9ab-4a26-ca08-fd4f06184ff1"
      },
      "source": [
        "first_description = reviews.loc[0, 'description']\n",
        "first_description"
      ],
      "execution_count": null,
      "outputs": [
        {
          "output_type": "execute_result",
          "data": {
            "application/vnd.google.colaboratory.intrinsic+json": {
              "type": "string"
            },
            "text/plain": [
              "\"Aromas include tropical fruit, broom, brimstone and dried herb. The palate isn't overly expressive, offering unripened apple, citrus and dried sage alongside brisk acidity.\""
            ]
          },
          "metadata": {},
          "execution_count": 8
        }
      ]
    },
    {
      "cell_type": "markdown",
      "metadata": {
        "id": "PC_xw6priEji"
      },
      "source": [
        "3.\n",
        "Select the first row of data (the first record) from reviews, assigning it to the variable first_row."
      ]
    },
    {
      "cell_type": "code",
      "metadata": {
        "colab": {
          "base_uri": "https://localhost:8080/"
        },
        "id": "6KP840rTokvS",
        "outputId": "2bc8ebb2-28e1-46d1-8f56-dfbe295dd2cb"
      },
      "source": [
        "first_row= reviews.loc[0]\n",
        "print(first_row)"
      ],
      "execution_count": null,
      "outputs": [
        {
          "output_type": "stream",
          "text": [
            "country                                                              Italy\n",
            "description              Aromas include tropical fruit, broom, brimston...\n",
            "designation                                                   Vulkà Bianco\n",
            "points                                                                  87\n",
            "price                                                                  NaN\n",
            "province                                                 Sicily & Sardinia\n",
            "region_1                                                              Etna\n",
            "region_2                                                               NaN\n",
            "taster_name                                                  Kerin O’Keefe\n",
            "taster_twitter_handle                                         @kerinokeefe\n",
            "title                                    Nicosia 2013 Vulkà Bianco  (Etna)\n",
            "variety                                                        White Blend\n",
            "winery                                                             Nicosia\n",
            "Name: 0, dtype: object\n"
          ],
          "name": "stdout"
        }
      ]
    },
    {
      "cell_type": "markdown",
      "metadata": {
        "id": "kwQgbAlXiKyq"
      },
      "source": [
        "4.\n",
        "Select the first 10 values from the description column in reviews, assigning the result to variable first_descriptions.\n",
        "\n",
        "Hint: format your output as a pandas Series."
      ]
    },
    {
      "cell_type": "code",
      "metadata": {
        "colab": {
          "base_uri": "https://localhost:8080/"
        },
        "id": "32_W9exQqe2h",
        "outputId": "3cc95379-eefe-45bb-bbfa-9e36a209ac00"
      },
      "source": [
        "first_descriptions = reviews.loc[:10, ['description']]\n",
        "print(first_descriptions)"
      ],
      "execution_count": null,
      "outputs": [
        {
          "output_type": "stream",
          "text": [
            "                                          description\n",
            "0   Aromas include tropical fruit, broom, brimston...\n",
            "1   This is ripe and fruity, a wine that is smooth...\n",
            "2   Tart and snappy, the flavors of lime flesh and...\n",
            "3   Pineapple rind, lemon pith and orange blossom ...\n",
            "4   Much like the regular bottling from 2012, this...\n",
            "5   Blackberry and raspberry aromas show a typical...\n",
            "6   Here's a bright, informal red that opens with ...\n",
            "7   This dry and restrained wine offers spice in p...\n",
            "8   Savory dried thyme notes accent sunnier flavor...\n",
            "9   This has great depth of flavor with its fresh ...\n",
            "10  Soft, supple plum envelopes an oaky structure ...\n"
          ],
          "name": "stdout"
        }
      ]
    },
    {
      "cell_type": "markdown",
      "metadata": {
        "id": "Hs0aLMfWiPSx"
      },
      "source": [
        "5.\n",
        "Select the records with index labels 1, 2, 3, 5, and 8, assigning the result to the variable sample_reviews.\n",
        "\n",
        "In other words, generate the following DataFrame\n",
        "\n",
        "![image.png](data:image/png;base64,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)"
      ]
    },
    {
      "cell_type": "code",
      "metadata": {
        "colab": {
          "base_uri": "https://localhost:8080/",
          "height": 453
        },
        "id": "pq4JlVK0u-iS",
        "outputId": "b19ae89b-933f-4370-f2b0-9e213332097b"
      },
      "source": [
        "sample_reviews=reviews.loc[[1,2,3,5,8]]\n",
        "sample_reviews"
      ],
      "execution_count": null,
      "outputs": [
        {
          "output_type": "execute_result",
          "data": {
            "text/html": [
              "<div>\n",
              "<style scoped>\n",
              "    .dataframe tbody tr th:only-of-type {\n",
              "        vertical-align: middle;\n",
              "    }\n",
              "\n",
              "    .dataframe tbody tr th {\n",
              "        vertical-align: top;\n",
              "    }\n",
              "\n",
              "    .dataframe thead th {\n",
              "        text-align: right;\n",
              "    }\n",
              "</style>\n",
              "<table border=\"1\" class=\"dataframe\">\n",
              "  <thead>\n",
              "    <tr style=\"text-align: right;\">\n",
              "      <th></th>\n",
              "      <th>country</th>\n",
              "      <th>description</th>\n",
              "      <th>designation</th>\n",
              "      <th>points</th>\n",
              "      <th>price</th>\n",
              "      <th>province</th>\n",
              "      <th>region_1</th>\n",
              "      <th>region_2</th>\n",
              "      <th>taster_name</th>\n",
              "      <th>taster_twitter_handle</th>\n",
              "      <th>title</th>\n",
              "      <th>variety</th>\n",
              "      <th>winery</th>\n",
              "    </tr>\n",
              "  </thead>\n",
              "  <tbody>\n",
              "    <tr>\n",
              "      <th>1</th>\n",
              "      <td>Portugal</td>\n",
              "      <td>This is ripe and fruity, a wine that is smooth...</td>\n",
              "      <td>Avidagos</td>\n",
              "      <td>87</td>\n",
              "      <td>15.0</td>\n",
              "      <td>Douro</td>\n",
              "      <td>NaN</td>\n",
              "      <td>NaN</td>\n",
              "      <td>Roger Voss</td>\n",
              "      <td>@vossroger</td>\n",
              "      <td>Quinta dos Avidagos 2011 Avidagos Red (Douro)</td>\n",
              "      <td>Portuguese Red</td>\n",
              "      <td>Quinta dos Avidagos</td>\n",
              "    </tr>\n",
              "    <tr>\n",
              "      <th>2</th>\n",
              "      <td>US</td>\n",
              "      <td>Tart and snappy, the flavors of lime flesh and...</td>\n",
              "      <td>NaN</td>\n",
              "      <td>87</td>\n",
              "      <td>14.0</td>\n",
              "      <td>Oregon</td>\n",
              "      <td>Willamette Valley</td>\n",
              "      <td>Willamette Valley</td>\n",
              "      <td>Paul Gregutt</td>\n",
              "      <td>@paulgwine</td>\n",
              "      <td>Rainstorm 2013 Pinot Gris (Willamette Valley)</td>\n",
              "      <td>Pinot Gris</td>\n",
              "      <td>Rainstorm</td>\n",
              "    </tr>\n",
              "    <tr>\n",
              "      <th>3</th>\n",
              "      <td>US</td>\n",
              "      <td>Pineapple rind, lemon pith and orange blossom ...</td>\n",
              "      <td>Reserve Late Harvest</td>\n",
              "      <td>87</td>\n",
              "      <td>13.0</td>\n",
              "      <td>Michigan</td>\n",
              "      <td>Lake Michigan Shore</td>\n",
              "      <td>NaN</td>\n",
              "      <td>Alexander Peartree</td>\n",
              "      <td>NaN</td>\n",
              "      <td>St. Julian 2013 Reserve Late Harvest Riesling ...</td>\n",
              "      <td>Riesling</td>\n",
              "      <td>St. Julian</td>\n",
              "    </tr>\n",
              "    <tr>\n",
              "      <th>5</th>\n",
              "      <td>Spain</td>\n",
              "      <td>Blackberry and raspberry aromas show a typical...</td>\n",
              "      <td>Ars In Vitro</td>\n",
              "      <td>87</td>\n",
              "      <td>15.0</td>\n",
              "      <td>Northern Spain</td>\n",
              "      <td>Navarra</td>\n",
              "      <td>NaN</td>\n",
              "      <td>Michael Schachner</td>\n",
              "      <td>@wineschach</td>\n",
              "      <td>Tandem 2011 Ars In Vitro Tempranillo-Merlot (N...</td>\n",
              "      <td>Tempranillo-Merlot</td>\n",
              "      <td>Tandem</td>\n",
              "    </tr>\n",
              "    <tr>\n",
              "      <th>8</th>\n",
              "      <td>Germany</td>\n",
              "      <td>Savory dried thyme notes accent sunnier flavor...</td>\n",
              "      <td>Shine</td>\n",
              "      <td>87</td>\n",
              "      <td>12.0</td>\n",
              "      <td>Rheinhessen</td>\n",
              "      <td>NaN</td>\n",
              "      <td>NaN</td>\n",
              "      <td>Anna Lee C. Iijima</td>\n",
              "      <td>NaN</td>\n",
              "      <td>Heinz Eifel 2013 Shine Gewürztraminer (Rheinhe...</td>\n",
              "      <td>Gewürztraminer</td>\n",
              "      <td>Heinz Eifel</td>\n",
              "    </tr>\n",
              "  </tbody>\n",
              "</table>\n",
              "</div>"
            ],
            "text/plain": [
              "    country  ...               winery\n",
              "1  Portugal  ...  Quinta dos Avidagos\n",
              "2        US  ...            Rainstorm\n",
              "3        US  ...           St. Julian\n",
              "5     Spain  ...               Tandem\n",
              "8   Germany  ...          Heinz Eifel\n",
              "\n",
              "[5 rows x 13 columns]"
            ]
          },
          "metadata": {},
          "execution_count": 14
        }
      ]
    },
    {
      "cell_type": "markdown",
      "metadata": {
        "id": "KckvgnVUwgSq"
      },
      "source": [
        "Create a variable df containing the country, province, region_1, and region_2 columns of the records with the index labels 0, 1, 10, and 100. In other words, generate the following DataFrame:\n",
        "\n",
        "\n",
        "\n",
        "\n",
        "![image.png](data:image/png;base64,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)"
      ]
    },
    {
      "cell_type": "code",
      "metadata": {
        "colab": {
          "base_uri": "https://localhost:8080/",
          "height": 172
        },
        "id": "34UU-oNMw5UJ",
        "outputId": "004ea355-c4dd-41ef-9f9b-7e2344b4788f"
      },
      "source": [
        "df = reviews.loc[[0,1,10,100], ['country', 'province', 'region_1', 'region_2']] \n",
        "df"
      ],
      "execution_count": null,
      "outputs": [
        {
          "output_type": "execute_result",
          "data": {
            "text/html": [
              "<div>\n",
              "<style scoped>\n",
              "    .dataframe tbody tr th:only-of-type {\n",
              "        vertical-align: middle;\n",
              "    }\n",
              "\n",
              "    .dataframe tbody tr th {\n",
              "        vertical-align: top;\n",
              "    }\n",
              "\n",
              "    .dataframe thead th {\n",
              "        text-align: right;\n",
              "    }\n",
              "</style>\n",
              "<table border=\"1\" class=\"dataframe\">\n",
              "  <thead>\n",
              "    <tr style=\"text-align: right;\">\n",
              "      <th></th>\n",
              "      <th>country</th>\n",
              "      <th>province</th>\n",
              "      <th>region_1</th>\n",
              "      <th>region_2</th>\n",
              "    </tr>\n",
              "  </thead>\n",
              "  <tbody>\n",
              "    <tr>\n",
              "      <th>0</th>\n",
              "      <td>Italy</td>\n",
              "      <td>Sicily &amp; Sardinia</td>\n",
              "      <td>Etna</td>\n",
              "      <td>NaN</td>\n",
              "    </tr>\n",
              "    <tr>\n",
              "      <th>1</th>\n",
              "      <td>Portugal</td>\n",
              "      <td>Douro</td>\n",
              "      <td>NaN</td>\n",
              "      <td>NaN</td>\n",
              "    </tr>\n",
              "    <tr>\n",
              "      <th>10</th>\n",
              "      <td>US</td>\n",
              "      <td>California</td>\n",
              "      <td>Napa Valley</td>\n",
              "      <td>Napa</td>\n",
              "    </tr>\n",
              "    <tr>\n",
              "      <th>100</th>\n",
              "      <td>US</td>\n",
              "      <td>New York</td>\n",
              "      <td>Finger Lakes</td>\n",
              "      <td>Finger Lakes</td>\n",
              "    </tr>\n",
              "  </tbody>\n",
              "</table>\n",
              "</div>"
            ],
            "text/plain": [
              "      country           province      region_1      region_2\n",
              "0       Italy  Sicily & Sardinia          Etna           NaN\n",
              "1    Portugal              Douro           NaN           NaN\n",
              "10         US         California   Napa Valley          Napa\n",
              "100        US           New York  Finger Lakes  Finger Lakes"
            ]
          },
          "metadata": {},
          "execution_count": 22
        }
      ]
    },
    {
      "cell_type": "markdown",
      "metadata": {
        "id": "drFzDRjkxMam"
      },
      "source": [
        "Create a variable df containing the country and variety columns of the first 100 records.\n",
        "\n",
        "Hint: you may use loc or iloc. When working on the answer this question and the several of the ones that follow, keep the following \"gotcha\" described in the tutorial:\n",
        "\n",
        "iloc uses the Python stdlib indexing scheme, where the first element of the range is included and the last one excluded. loc, meanwhile, indexes inclusively.\n",
        "\n",
        "This is particularly confusing when the DataFrame index is a simple numerical list, e.g. 0,...,1000. In this case df.iloc[0:1000] will return 1000 entries, while df.loc[0:1000] return 1001 of them! To get 1000 elements using loc, you will need to go one lower and ask for df.iloc[0:999]."
      ]
    },
    {
      "cell_type": "code",
      "metadata": {
        "colab": {
          "base_uri": "https://localhost:8080/"
        },
        "id": "YE4KM3880p-D",
        "outputId": "a5890f93-d2fa-4099-af7b-232a2d8ccbf7"
      },
      "source": [
        "df = reviews.loc[:100, ['country','variety']]\n",
        "print(df)"
      ],
      "execution_count": null,
      "outputs": [
        {
          "output_type": "stream",
          "text": [
            "      country                   variety\n",
            "0       Italy               White Blend\n",
            "1    Portugal            Portuguese Red\n",
            "2          US                Pinot Gris\n",
            "3          US                  Riesling\n",
            "4          US                Pinot Noir\n",
            "..        ...                       ...\n",
            "96     France                     Gamay\n",
            "97         US                  Riesling\n",
            "98      Italy                Sangiovese\n",
            "99         US  Bordeaux-style Red Blend\n",
            "100        US                Pinot Gris\n",
            "\n",
            "[101 rows x 2 columns]\n"
          ],
          "name": "stdout"
        }
      ]
    },
    {
      "cell_type": "markdown",
      "metadata": {
        "id": "06yIL6fKiVCZ"
      },
      "source": [
        ""
      ]
    },
    {
      "cell_type": "markdown",
      "metadata": {
        "id": "QU2dAIxL2u8c"
      },
      "source": [
        "Create a DataFrame italian_wines containing reviews of wines made in Italy. Hint: reviews.country equals what?"
      ]
    },
    {
      "cell_type": "code",
      "metadata": {
        "colab": {
          "base_uri": "https://localhost:8080/",
          "height": 950
        },
        "id": "GjE0JMsW3BW8",
        "outputId": "2f502d3f-7608-4ebe-d1a6-5dbfe8358664"
      },
      "source": [
        "italian_wines=reviews.loc[reviews.country == 'Italy']\n",
        "italian_wines"
      ],
      "execution_count": null,
      "outputs": [
        {
          "output_type": "execute_result",
          "data": {
            "text/html": [
              "<div>\n",
              "<style scoped>\n",
              "    .dataframe tbody tr th:only-of-type {\n",
              "        vertical-align: middle;\n",
              "    }\n",
              "\n",
              "    .dataframe tbody tr th {\n",
              "        vertical-align: top;\n",
              "    }\n",
              "\n",
              "    .dataframe thead th {\n",
              "        text-align: right;\n",
              "    }\n",
              "</style>\n",
              "<table border=\"1\" class=\"dataframe\">\n",
              "  <thead>\n",
              "    <tr style=\"text-align: right;\">\n",
              "      <th></th>\n",
              "      <th>country</th>\n",
              "      <th>description</th>\n",
              "      <th>designation</th>\n",
              "      <th>points</th>\n",
              "      <th>price</th>\n",
              "      <th>province</th>\n",
              "      <th>region_1</th>\n",
              "      <th>region_2</th>\n",
              "      <th>taster_name</th>\n",
              "      <th>taster_twitter_handle</th>\n",
              "      <th>title</th>\n",
              "      <th>variety</th>\n",
              "      <th>winery</th>\n",
              "    </tr>\n",
              "  </thead>\n",
              "  <tbody>\n",
              "    <tr>\n",
              "      <th>0</th>\n",
              "      <td>Italy</td>\n",
              "      <td>Aromas include tropical fruit, broom, brimston...</td>\n",
              "      <td>Vulkà Bianco</td>\n",
              "      <td>87</td>\n",
              "      <td>NaN</td>\n",
              "      <td>Sicily &amp; Sardinia</td>\n",
              "      <td>Etna</td>\n",
              "      <td>NaN</td>\n",
              "      <td>Kerin O’Keefe</td>\n",
              "      <td>@kerinokeefe</td>\n",
              "      <td>Nicosia 2013 Vulkà Bianco  (Etna)</td>\n",
              "      <td>White Blend</td>\n",
              "      <td>Nicosia</td>\n",
              "    </tr>\n",
              "    <tr>\n",
              "      <th>6</th>\n",
              "      <td>Italy</td>\n",
              "      <td>Here's a bright, informal red that opens with ...</td>\n",
              "      <td>Belsito</td>\n",
              "      <td>87</td>\n",
              "      <td>16.0</td>\n",
              "      <td>Sicily &amp; Sardinia</td>\n",
              "      <td>Vittoria</td>\n",
              "      <td>NaN</td>\n",
              "      <td>Kerin O’Keefe</td>\n",
              "      <td>@kerinokeefe</td>\n",
              "      <td>Terre di Giurfo 2013 Belsito Frappato (Vittoria)</td>\n",
              "      <td>Frappato</td>\n",
              "      <td>Terre di Giurfo</td>\n",
              "    </tr>\n",
              "    <tr>\n",
              "      <th>13</th>\n",
              "      <td>Italy</td>\n",
              "      <td>This is dominated by oak and oak-driven aromas...</td>\n",
              "      <td>Rosso</td>\n",
              "      <td>87</td>\n",
              "      <td>NaN</td>\n",
              "      <td>Sicily &amp; Sardinia</td>\n",
              "      <td>Etna</td>\n",
              "      <td>NaN</td>\n",
              "      <td>Kerin O’Keefe</td>\n",
              "      <td>@kerinokeefe</td>\n",
              "      <td>Masseria Setteporte 2012 Rosso  (Etna)</td>\n",
              "      <td>Nerello Mascalese</td>\n",
              "      <td>Masseria Setteporte</td>\n",
              "    </tr>\n",
              "    <tr>\n",
              "      <th>22</th>\n",
              "      <td>Italy</td>\n",
              "      <td>Delicate aromas recall white flower and citrus...</td>\n",
              "      <td>Ficiligno</td>\n",
              "      <td>87</td>\n",
              "      <td>19.0</td>\n",
              "      <td>Sicily &amp; Sardinia</td>\n",
              "      <td>Sicilia</td>\n",
              "      <td>NaN</td>\n",
              "      <td>Kerin O’Keefe</td>\n",
              "      <td>@kerinokeefe</td>\n",
              "      <td>Baglio di Pianetto 2007 Ficiligno White (Sicilia)</td>\n",
              "      <td>White Blend</td>\n",
              "      <td>Baglio di Pianetto</td>\n",
              "    </tr>\n",
              "    <tr>\n",
              "      <th>24</th>\n",
              "      <td>Italy</td>\n",
              "      <td>Aromas of prune, blackcurrant, toast and oak c...</td>\n",
              "      <td>Aynat</td>\n",
              "      <td>87</td>\n",
              "      <td>35.0</td>\n",
              "      <td>Sicily &amp; Sardinia</td>\n",
              "      <td>Sicilia</td>\n",
              "      <td>NaN</td>\n",
              "      <td>Kerin O’Keefe</td>\n",
              "      <td>@kerinokeefe</td>\n",
              "      <td>Canicattì 2009 Aynat Nero d'Avola (Sicilia)</td>\n",
              "      <td>Nero d'Avola</td>\n",
              "      <td>Canicattì</td>\n",
              "    </tr>\n",
              "    <tr>\n",
              "      <th>...</th>\n",
              "      <td>...</td>\n",
              "      <td>...</td>\n",
              "      <td>...</td>\n",
              "      <td>...</td>\n",
              "      <td>...</td>\n",
              "      <td>...</td>\n",
              "      <td>...</td>\n",
              "      <td>...</td>\n",
              "      <td>...</td>\n",
              "      <td>...</td>\n",
              "      <td>...</td>\n",
              "      <td>...</td>\n",
              "      <td>...</td>\n",
              "    </tr>\n",
              "    <tr>\n",
              "      <th>129929</th>\n",
              "      <td>Italy</td>\n",
              "      <td>This luminous sparkler has a sweet, fruit-forw...</td>\n",
              "      <td>NaN</td>\n",
              "      <td>91</td>\n",
              "      <td>38.0</td>\n",
              "      <td>Veneto</td>\n",
              "      <td>Prosecco Superiore di Cartizze</td>\n",
              "      <td>NaN</td>\n",
              "      <td>NaN</td>\n",
              "      <td>NaN</td>\n",
              "      <td>Col Vetoraz Spumanti NV  Prosecco Superiore di...</td>\n",
              "      <td>Prosecco</td>\n",
              "      <td>Col Vetoraz Spumanti</td>\n",
              "    </tr>\n",
              "    <tr>\n",
              "      <th>129943</th>\n",
              "      <td>Italy</td>\n",
              "      <td>A blend of Nero d'Avola and Syrah, this convey...</td>\n",
              "      <td>Adènzia</td>\n",
              "      <td>90</td>\n",
              "      <td>29.0</td>\n",
              "      <td>Sicily &amp; Sardinia</td>\n",
              "      <td>Sicilia</td>\n",
              "      <td>NaN</td>\n",
              "      <td>Kerin O’Keefe</td>\n",
              "      <td>@kerinokeefe</td>\n",
              "      <td>Baglio del Cristo di Campobello 2012 Adènzia R...</td>\n",
              "      <td>Red Blend</td>\n",
              "      <td>Baglio del Cristo di Campobello</td>\n",
              "    </tr>\n",
              "    <tr>\n",
              "      <th>129947</th>\n",
              "      <td>Italy</td>\n",
              "      <td>A blend of 65% Cabernet Sauvignon, 30% Merlot ...</td>\n",
              "      <td>Symposio</td>\n",
              "      <td>90</td>\n",
              "      <td>20.0</td>\n",
              "      <td>Sicily &amp; Sardinia</td>\n",
              "      <td>Terre Siciliane</td>\n",
              "      <td>NaN</td>\n",
              "      <td>Kerin O’Keefe</td>\n",
              "      <td>@kerinokeefe</td>\n",
              "      <td>Feudo Principi di Butera 2012 Symposio Red (Te...</td>\n",
              "      <td>Red Blend</td>\n",
              "      <td>Feudo Principi di Butera</td>\n",
              "    </tr>\n",
              "    <tr>\n",
              "      <th>129961</th>\n",
              "      <td>Italy</td>\n",
              "      <td>Intense aromas of wild cherry, baking spice, t...</td>\n",
              "      <td>NaN</td>\n",
              "      <td>90</td>\n",
              "      <td>30.0</td>\n",
              "      <td>Sicily &amp; Sardinia</td>\n",
              "      <td>Sicilia</td>\n",
              "      <td>NaN</td>\n",
              "      <td>Kerin O’Keefe</td>\n",
              "      <td>@kerinokeefe</td>\n",
              "      <td>COS 2013 Frappato (Sicilia)</td>\n",
              "      <td>Frappato</td>\n",
              "      <td>COS</td>\n",
              "    </tr>\n",
              "    <tr>\n",
              "      <th>129962</th>\n",
              "      <td>Italy</td>\n",
              "      <td>Blackberry, cassis, grilled herb and toasted a...</td>\n",
              "      <td>Sàgana Tenuta San Giacomo</td>\n",
              "      <td>90</td>\n",
              "      <td>40.0</td>\n",
              "      <td>Sicily &amp; Sardinia</td>\n",
              "      <td>Sicilia</td>\n",
              "      <td>NaN</td>\n",
              "      <td>Kerin O’Keefe</td>\n",
              "      <td>@kerinokeefe</td>\n",
              "      <td>Cusumano 2012 Sàgana Tenuta San Giacomo Nero d...</td>\n",
              "      <td>Nero d'Avola</td>\n",
              "      <td>Cusumano</td>\n",
              "    </tr>\n",
              "  </tbody>\n",
              "</table>\n",
              "<p>19540 rows × 13 columns</p>\n",
              "</div>"
            ],
            "text/plain": [
              "       country  ...                           winery\n",
              "0        Italy  ...                          Nicosia\n",
              "6        Italy  ...                  Terre di Giurfo\n",
              "13       Italy  ...              Masseria Setteporte\n",
              "22       Italy  ...               Baglio di Pianetto\n",
              "24       Italy  ...                        Canicattì\n",
              "...        ...  ...                              ...\n",
              "129929   Italy  ...             Col Vetoraz Spumanti\n",
              "129943   Italy  ...  Baglio del Cristo di Campobello\n",
              "129947   Italy  ...         Feudo Principi di Butera\n",
              "129961   Italy  ...                              COS\n",
              "129962   Italy  ...                         Cusumano\n",
              "\n",
              "[19540 rows x 13 columns]"
            ]
          },
          "metadata": {},
          "execution_count": 24
        }
      ]
    },
    {
      "cell_type": "markdown",
      "metadata": {
        "id": "NyFBsUgH31jb"
      },
      "source": [
        ""
      ]
    },
    {
      "cell_type": "markdown",
      "metadata": {
        "id": "jj9tkari2ymF"
      },
      "source": [
        "Create a DataFrame top_oceania_wines containing all reviews with at least 95 points (out of 100) for wines from Australia or New Zealand."
      ]
    },
    {
      "cell_type": "code",
      "metadata": {
        "colab": {
          "base_uri": "https://localhost:8080/"
        },
        "id": "e0AzTiBu32xM",
        "outputId": "866cd876-cf39-424c-dbba-016a25b1d05c"
      },
      "source": [
        "top_oceania_wines = reviews.loc[(reviews.country == 'Australia') & (reviews.points >= 95)]\n",
        "print(top_oceania_wines)"
      ],
      "execution_count": null,
      "outputs": [
        {
          "output_type": "stream",
          "text": [
            "          country  ...                       winery\n",
            "345     Australia  ...  Chambers Rosewood Vineyards\n",
            "346     Australia  ...  Chambers Rosewood Vineyards\n",
            "348     Australia  ...  Chambers Rosewood Vineyards\n",
            "349     Australia  ...                     Torbreck\n",
            "356     Australia  ...                  Jasper Hill\n",
            "360     Australia  ...                     Torbreck\n",
            "365     Australia  ...                    Wakefield\n",
            "14354   Australia  ...                      Kaesler\n",
            "16538   Australia  ...                      Lambert\n",
            "28573   Australia  ...              Clarendon Hills\n",
            "34502   Australia  ...                     Standish\n",
            "34506   Australia  ...                     Standish\n",
            "38988   Australia  ...                     Penfolds\n",
            "39059   Australia  ...                    Wakefield\n",
            "39961   Australia  ...                     Penfolds\n",
            "39962   Australia  ...                     Penfolds\n",
            "45809   Australia  ...              Clarendon Hills\n",
            "56953   Australia  ...                     Penfolds\n",
            "56956   Australia  ...                     Standish\n",
            "56957   Australia  ...                 Thorn Clarke\n",
            "56959   Australia  ...                     Henschke\n",
            "59977   Australia  ...                 Hickinbotham\n",
            "59984   Australia  ...                    Heartland\n",
            "67096   Australia  ...            R.L. Buller & Son\n",
            "67101   Australia  ...  Chambers Rosewood Vineyards\n",
            "76392   Australia  ...                  Jasper Hill\n",
            "77028   Australia  ...                     Penfolds\n",
            "77036   Australia  ...                     Penfolds\n",
            "77037   Australia  ...                     Torbreck\n",
            "77042   Australia  ...             John Duval Wines\n",
            "77044   Australia  ...                   Kilikanoon\n",
            "77046   Australia  ...                     Torbreck\n",
            "83357   Australia  ...                     Penfolds\n",
            "84815   Australia  ...                     Torbreck\n",
            "84816   Australia  ...                     Nashwauk\n",
            "87128   Australia  ...                 Kay Brothers\n",
            "87137   Australia  ...                    Moss Wood\n",
            "87143   Australia  ...                    Wakefield\n",
            "98386   Australia  ...                   D'Arenberg\n",
            "99318   Australia  ...                     Henschke\n",
            "99330   Australia  ...                     Penfolds\n",
            "99340   Australia  ...                     Torbreck\n",
            "109427  Australia  ...  Chambers Rosewood Vineyards\n",
            "109434  Australia  ...                   D'Arenberg\n",
            "122421  Australia  ...                     Glaetzer\n",
            "122430  Australia  ...                     Glaetzer\n",
            "122939  Australia  ...                     Torbreck\n",
            "\n",
            "[47 rows x 13 columns]\n"
          ],
          "name": "stdout"
        }
      ]
    },
    {
      "cell_type": "markdown",
      "metadata": {
        "id": "L9spE8jrxUPs"
      },
      "source": [
        ""
      ]
    },
    {
      "cell_type": "markdown",
      "metadata": {
        "id": "KhbAynYRiMCB"
      },
      "source": [
        ""
      ]
    }
  ]
}