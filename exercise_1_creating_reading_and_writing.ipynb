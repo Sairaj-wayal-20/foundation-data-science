{
  "nbformat": 4,
  "nbformat_minor": 0,
  "metadata": {
    "kernelspec": {
      "language": "python",
      "display_name": "Python 3",
      "name": "python3"
    },
    "language_info": {
      "pygments_lexer": "ipython3",
      "nbconvert_exporter": "python",
      "version": "3.6.4",
      "file_extension": ".py",
      "codemirror_mode": {
        "name": "ipython",
        "version": 3
      },
      "name": "python",
      "mimetype": "text/x-python"
    },
    "colab": {
      "name": "exercise_1-creating-reading-and-writing.ipynb",
      "provenance": []
    }
  },
  "cells": [
    {
      "cell_type": "markdown",
      "metadata": {
        "id": "27oxYnwy2p5s"
      },
      "source": [
        "# Introduction\n",
        "\n",
        "The first step in most data analytics projects is reading the data file. In this exercise, you'll create Series and DataFrame objects, both by hand and by reading data files.\n",
        "\n",
        "Run the code cell below to load libraries you will need (including code to check your answers)."
      ]
    },
    {
      "cell_type": "code",
      "metadata": {
        "execution": {
          "iopub.status.busy": "2021-08-31T08:11:37.678992Z",
          "iopub.execute_input": "2021-08-31T08:11:37.679352Z",
          "iopub.status.idle": "2021-08-31T08:11:39.43174Z",
          "shell.execute_reply.started": "2021-08-31T08:11:37.679298Z",
          "shell.execute_reply": "2021-08-31T08:11:39.431035Z"
        },
        "trusted": true,
        "id": "ZarhZ14N2p5y"
      },
      "source": [
        "import pandas as pd\n",
        "pd.set_option('max_rows', 5)\n",
        "from learntools.core import binder; binder.bind(globals())\n",
        "from learntools.pandas.creating_reading_and_writing import *\n",
        "print(\"Setup complete.\")"
      ],
      "execution_count": null,
      "outputs": []
    },
    {
      "cell_type": "markdown",
      "metadata": {
        "id": "oBW-uxX32p5z"
      },
      "source": [
        "# Exercises"
      ]
    },
    {
      "cell_type": "markdown",
      "metadata": {
        "id": "AJ24QABD2p50"
      },
      "source": [
        "## 1.\n",
        "\n",
        "In the cell below, create a DataFrame `fruits` that looks like this:\n",
        "\n",
        "![](https://i.imgur.com/Ax3pp2A.png)"
      ]
    },
    {
      "cell_type": "code",
      "metadata": {
        "execution": {
          "iopub.status.busy": "2021-08-31T08:11:43.446385Z",
          "iopub.execute_input": "2021-08-31T08:11:43.446869Z",
          "iopub.status.idle": "2021-08-31T08:11:43.465978Z",
          "shell.execute_reply.started": "2021-08-31T08:11:43.446839Z",
          "shell.execute_reply": "2021-08-31T08:11:43.465141Z"
        },
        "trusted": true,
        "id": "1T-Husdo2p50"
      },
      "source": [
        "# Your code goes here. Create a dataframe matching the above diagram and assign it to the variable fruits.\n",
        "fruits = pd.DataFrame({'Apples': [30], 'Bananas': [21]})\n",
        "\n",
        "# Check your answer\n",
        "q1.check()\n",
        "fruits"
      ],
      "execution_count": null,
      "outputs": []
    },
    {
      "cell_type": "markdown",
      "metadata": {
        "id": "vGUbtNMC2p51"
      },
      "source": [
        "## 2.\n",
        "\n",
        "Create a dataframe `fruit_sales` that matches the diagram below:\n",
        "\n",
        "![](https://i.imgur.com/CHPn7ZF.png)"
      ]
    },
    {
      "cell_type": "code",
      "metadata": {
        "execution": {
          "iopub.status.busy": "2021-08-31T08:12:22.375523Z",
          "iopub.execute_input": "2021-08-31T08:12:22.375983Z",
          "iopub.status.idle": "2021-08-31T08:12:22.393828Z",
          "shell.execute_reply.started": "2021-08-31T08:12:22.37594Z",
          "shell.execute_reply": "2021-08-31T08:12:22.392911Z"
        },
        "trusted": true,
        "id": "CIhw_aQa2p51"
      },
      "source": [
        "# Your code goes here. Create a dataframe matching the above diagram and assign it to the variable fruit_sales.\n",
        "fruit_sales = pd.DataFrame({'Apples': [35, 41], 'Bananas': [21, 34]}, index=['2017 Sales', '2018 Sales'])\n",
        "\n",
        "# Check your answer\n",
        "q2.check()\n",
        "fruit_sales"
      ],
      "execution_count": null,
      "outputs": []
    },
    {
      "cell_type": "markdown",
      "metadata": {
        "id": "9U6O2bsC2p52"
      },
      "source": [
        "## 3.\n",
        "\n",
        "Create a variable `ingredients` with a Series that looks like:\n",
        "\n",
        "```\n",
        "Flour     4 cups\n",
        "Milk       1 cup\n",
        "Eggs     2 large\n",
        "Spam       1 can\n",
        "Name: Dinner, dtype: object\n",
        "```"
      ]
    },
    {
      "cell_type": "code",
      "metadata": {
        "execution": {
          "iopub.status.busy": "2021-08-31T08:12:38.078254Z",
          "iopub.execute_input": "2021-08-31T08:12:38.078927Z",
          "iopub.status.idle": "2021-08-31T08:12:38.093248Z",
          "shell.execute_reply.started": "2021-08-31T08:12:38.07888Z",
          "shell.execute_reply": "2021-08-31T08:12:38.092211Z"
        },
        "trusted": true,
        "id": "xuLOpO292p53"
      },
      "source": [
        "ingredients =pd.Series(index = [\"Flour\", \"Milk\", \"Eggs\", \"Spam\"],\n",
        "                       data = [\"4 cups\", \"1 cup\", \"2 large\", \"1 can\"], name='Dinner')\n",
        "\n",
        "\n",
        "# Check your answer\n",
        "q3.check()\n",
        "ingredients"
      ],
      "execution_count": null,
      "outputs": []
    },
    {
      "cell_type": "markdown",
      "metadata": {
        "id": "jSVb9gha2p53"
      },
      "source": [
        "## 4.\n",
        "\n",
        "Read the following csv dataset of wine reviews into a DataFrame called `reviews`:\n",
        "\n",
        "![](https://i.imgur.com/74RCZtU.png)\n",
        "\n",
        "The filepath to the csv file is `../input/wine-reviews/winemag-data_first150k.csv`. The first few lines look like:\n",
        "\n",
        "```\n",
        ",country,description,designation,points,price,province,region_1,region_2,variety,winery\n",
        "0,US,\"This tremendous 100% varietal wine[...]\",Martha's Vineyard,96,235.0,California,Napa Valley,Napa,Cabernet Sauvignon,Heitz\n",
        "1,Spain,\"Ripe aromas of fig, blackberry and[...]\",Carodorum Selección Especial Reserva,96,110.0,Northern Spain,Toro,,Tinta de Toro,Bodega Carmen Rodríguez\n",
        "```"
      ]
    },
    {
      "cell_type": "code",
      "metadata": {
        "execution": {
          "iopub.status.busy": "2021-08-31T08:12:51.388582Z",
          "iopub.execute_input": "2021-08-31T08:12:51.389115Z",
          "iopub.status.idle": "2021-08-31T08:12:52.279648Z",
          "shell.execute_reply.started": "2021-08-31T08:12:51.389067Z",
          "shell.execute_reply": "2021-08-31T08:12:52.278842Z"
        },
        "trusted": true,
        "id": "i9LBkCAs2p54"
      },
      "source": [
        "reviews = pd.read_csv(\"../input/wine-reviews/winemag-data_first150k.csv\",index_col=0)\n",
        "\n",
        "# Check your answer\n",
        "q4.check()\n",
        "reviews"
      ],
      "execution_count": null,
      "outputs": []
    },
    {
      "cell_type": "markdown",
      "metadata": {
        "id": "btvgztx22p54"
      },
      "source": [
        "## 5.\n",
        "\n",
        "Run the cell below to create and display a DataFrame called `animals`:"
      ]
    },
    {
      "cell_type": "code",
      "metadata": {
        "execution": {
          "iopub.status.busy": "2021-08-31T08:13:54.454823Z",
          "iopub.execute_input": "2021-08-31T08:13:54.455215Z",
          "iopub.status.idle": "2021-08-31T08:13:54.467443Z",
          "shell.execute_reply.started": "2021-08-31T08:13:54.455163Z",
          "shell.execute_reply": "2021-08-31T08:13:54.466281Z"
        },
        "trusted": true,
        "id": "8iuS4Pmo2p55"
      },
      "source": [
        "animals = pd.DataFrame({'Cows': [12, 20], 'Goats': [22, 19]}, index=['Year 1', 'Year 2'])\n",
        "animals"
      ],
      "execution_count": null,
      "outputs": []
    },
    {
      "cell_type": "markdown",
      "metadata": {
        "id": "4GDtE9gQ2p55"
      },
      "source": [
        "In the cell below, write code to save this DataFrame to disk as a csv file with the name `cows_and_goats.csv`."
      ]
    },
    {
      "cell_type": "code",
      "metadata": {
        "execution": {
          "iopub.status.busy": "2021-08-31T08:14:10.145621Z",
          "iopub.execute_input": "2021-08-31T08:14:10.14599Z",
          "iopub.status.idle": "2021-08-31T08:14:10.16248Z",
          "shell.execute_reply.started": "2021-08-31T08:14:10.145956Z",
          "shell.execute_reply": "2021-08-31T08:14:10.161386Z"
        },
        "trusted": true,
        "id": "fGNoFSbe2p56"
      },
      "source": [
        "# Your code goes here\n",
        "csv_file=animals.to_csv(\"cows_and_goats.csv\")\n",
        "\n",
        "\n",
        "# Check your answer\n",
        "q5.check()"
      ],
      "execution_count": null,
      "outputs": []
    },
    {
      "cell_type": "markdown",
      "metadata": {
        "id": "T_l2JeOw2p56"
      },
      "source": [
        "# Keep going\n",
        "\n",
        "Move on to learn about **[indexing, selecting and assigning](https://www.kaggle.com/residentmario/indexing-selecting-assigning)**."
      ]
    },
    {
      "cell_type": "markdown",
      "metadata": {
        "id": "OUYSJYL42p56"
      },
      "source": [
        "---\n",
        "\n",
        "\n",
        "\n",
        "\n",
        "*Have questions or comments? Visit the [Learn Discussion forum](https://www.kaggle.com/learn-forum/161299) to chat with other Learners.*"
      ]
    }
  ]
}